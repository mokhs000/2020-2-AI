{
  "nbformat": 4,
  "nbformat_minor": 0,
  "metadata": {
    "kernelspec": {
      "display_name": "Python 3",
      "language": "python",
      "name": "python3"
    },
    "language_info": {
      "codemirror_mode": {
        "name": "ipython",
        "version": 3
      },
      "file_extension": ".py",
      "mimetype": "text/x-python",
      "name": "python",
      "nbconvert_exporter": "python",
      "pygments_lexer": "ipython3",
      "version": "3.6.0"
    },
    "colab": {
      "name": "12W-cnn-basic.ipynb",
      "provenance": [],
      "collapsed_sections": [],
      "toc_visible": true,
      "include_colab_link": true
    }
  },
  "cells": [
    {
      "cell_type": "markdown",
      "metadata": {
        "id": "view-in-github",
        "colab_type": "text"
      },
      "source": [
        "<a href=\"https://colab.research.google.com/github/mokhs000/2020-2-AI/blob/master/code/12W_cnn_basic.ipynb\" target=\"_parent\"><img src=\"https://colab.research.google.com/assets/colab-badge.svg\" alt=\"Open In Colab\"/></a>"
      ]
    },
    {
      "cell_type": "code",
      "metadata": {
        "id": "U0H6l8oaVmjZ"
      },
      "source": [
        "# %matplotlib inline\n",
        "import numpy as np\n",
        "import tensorflow as tf\n",
        "import matplotlib.pyplot as plt"
      ],
      "execution_count": 1,
      "outputs": []
    },
    {
      "cell_type": "code",
      "metadata": {
        "id": "CafI-UlLVmjc",
        "colab": {
          "base_uri": "https://localhost:8080/"
        },
        "outputId": "f07f88b3-1c26-44e9-c5fc-e9c4e4cb14cc"
      },
      "source": [
        "image = np.array([[[1,2,3],\n",
        "                   [4,5,6], \n",
        "                   [7,8,9]]], dtype=np.float32)\n",
        "image.shape"
      ],
      "execution_count": 2,
      "outputs": [
        {
          "output_type": "execute_result",
          "data": {
            "text/plain": [
              "(1, 3, 3)"
            ]
          },
          "metadata": {
            "tags": []
          },
          "execution_count": 2
        }
      ]
    },
    {
      "cell_type": "code",
      "metadata": {
        "colab": {
          "base_uri": "https://localhost:8080/"
        },
        "id": "-fXnnO_QA9CG",
        "outputId": "7f17fa07-9e80-43e6-ce74-fdb8a26f406c"
      },
      "source": [
        "image = image.reshape(-1, 3, 3, 1)\n",
        "'''\n",
        "image = np.array([[[[1],[2],[3]],\n",
        "                   [[4],[5],[6]], \n",
        "                   [[7],[8],[9]]]], dtype=np.float32)\n",
        "'''\n",
        "image.shape"
      ],
      "execution_count": 3,
      "outputs": [
        {
          "output_type": "execute_result",
          "data": {
            "text/plain": [
              "(1, 3, 3, 1)"
            ]
          },
          "metadata": {
            "tags": []
          },
          "execution_count": 3
        }
      ]
    },
    {
      "cell_type": "code",
      "metadata": {
        "colab": {
          "base_uri": "https://localhost:8080/",
          "height": 487
        },
        "id": "5sIXaXy1BYLI",
        "outputId": "7c49fcc9-8fe7-4765-deca-0184f9f111b9"
      },
      "source": [
        "print(image)\n",
        "plt.imshow(image.reshape(3,3), cmap='Greys')"
      ],
      "execution_count": 4,
      "outputs": [
        {
          "output_type": "stream",
          "text": [
            "[[[[1.]\n",
            "   [2.]\n",
            "   [3.]]\n",
            "\n",
            "  [[4.]\n",
            "   [5.]\n",
            "   [6.]]\n",
            "\n",
            "  [[7.]\n",
            "   [8.]\n",
            "   [9.]]]]\n"
          ],
          "name": "stdout"
        },
        {
          "output_type": "execute_result",
          "data": {
            "text/plain": [
              "<matplotlib.image.AxesImage at 0x7f0a5c1aeeb8>"
            ]
          },
          "metadata": {
            "tags": []
          },
          "execution_count": 4
        },
        {
          "output_type": "display_data",
          "data": {
            "image/png": "[encoded data removed]",
            "text/plain": [
              "<Figure size 432x288 with 1 Axes>"
            ]
          },
          "metadata": {
            "tags": [],
            "needs_background": "light"
          }
        }
      ]
    },
    {
      "cell_type": "code",
      "metadata": {
        "id": "fZyCt_RF6DmW",
        "colab": {
          "base_uri": "https://localhost:8080/",
          "height": 305
        },
        "outputId": "a7dd9b52-d3fb-445d-9b7f-e528dff34140"
      },
      "source": [
        "image = np.array([[[[1],[2],[3]],\n",
        "                   [[4],[5],[6]], \n",
        "                   [[7],[8],[9]]]], dtype=np.float32)\n",
        "print(image.shape)\n",
        "plt.imshow(image.reshape(3,3), cmap='Greys')"
      ],
      "execution_count": 5,
      "outputs": [
        {
          "output_type": "stream",
          "text": [
            "(1, 3, 3, 1)\n"
          ],
          "name": "stdout"
        },
        {
          "output_type": "execute_result",
          "data": {
            "text/plain": [
              "<matplotlib.image.AxesImage at 0x7f0a5bd063c8>"
            ]
          },
          "metadata": {
            "tags": []
          },
          "execution_count": 5
        },
        {
          "output_type": "display_data",
          "data": {
            "image/png": "[encoded data removed]",
            "text/plain": [
              "<Figure size 432x288 with 1 Axes>"
            ]
          },
          "metadata": {
            "tags": [],
            "needs_background": "light"
          }
        }
      ]
    },
    {
      "cell_type": "code",
      "metadata": {
        "colab": {
          "base_uri": "https://localhost:8080/"
        },
        "id": "tXXX6ZupqLmo",
        "outputId": "d9e957c8-9c1f-4eda-b101-7f04b091e1f5"
      },
      "source": [
        "print(image)"
      ],
      "execution_count": 6,
      "outputs": [
        {
          "output_type": "stream",
          "text": [
            "[[[[1.]\n",
            "   [2.]\n",
            "   [3.]]\n",
            "\n",
            "  [[4.]\n",
            "   [5.]\n",
            "   [6.]]\n",
            "\n",
            "  [[7.]\n",
            "   [8.]\n",
            "   [9.]]]]\n"
          ],
          "name": "stdout"
        }
      ]
    },
    {
      "cell_type": "code",
      "metadata": {
        "id": "yNEPRof7Vmjg",
        "colab": {
          "base_uri": "https://localhost:8080/"
        },
        "outputId": "a0812d4a-2184-46aa-807f-c55fdcb33e8d"
      },
      "source": [
        "image = np.array([[[[1],[2],[3]],\n",
        "                   [[4],[5],[6]], \n",
        "                   [[7],[8],[9]]]], dtype=np.float32)\n",
        "print(\"image.shape\", image.shape)\n",
        "\n",
        "# wight가 커널\n",
        "weight = tf.constant([[[[1.]],[[1.]]],\n",
        "                      [[[1.]],[[1.]]]])\n",
        "print(\"weight.shape\", weight.shape)\n",
        "\n",
        "conv2d = tf.nn.conv2d(image, weight, strides=[1, 1, 1, 1], padding='VALID')\n",
        "print(\"conv2d.shape\", conv2d.shape)\n",
        "\n",
        "conv2d_img = np.swapaxes(conv2d, 0, 3)\n",
        "print(\"conv2d_img.shape\", conv2d_img.shape)\n",
        "print(type(conv2d_img))\n",
        "print(conv2d_img)"
      ],
      "execution_count": 7,
      "outputs": [
        {
          "output_type": "stream",
          "text": [
            "image.shape (1, 3, 3, 1)\n",
            "weight.shape (2, 2, 1, 1)\n",
            "conv2d.shape (1, 2, 2, 1)\n",
            "conv2d_img.shape (1, 2, 2, 1)\n",
            "<class 'numpy.ndarray'>\n",
            "[[[[12.]\n",
            "   [16.]]\n",
            "\n",
            "  [[24.]\n",
            "   [28.]]]]\n"
          ],
          "name": "stdout"
        }
      ]
    },
    {
      "cell_type": "code",
      "metadata": {
        "colab": {
          "base_uri": "https://localhost:8080/",
          "height": 305
        },
        "id": "kkMyiFa9fSnm",
        "outputId": "8bba8d3c-977f-43e8-e330-26f30b675632"
      },
      "source": [
        "for i, one_img in enumerate(conv2d_img):\n",
        "    print(one_img.reshape(2,2))\n",
        "    plt.subplot(1, 1, i+1)\n",
        "    plt.imshow(one_img.reshape(2,2), cmap='gray')"
      ],
      "execution_count": 8,
      "outputs": [
        {
          "output_type": "stream",
          "text": [
            "[[12. 16.]\n",
            " [24. 28.]]\n"
          ],
          "name": "stdout"
        },
        {
          "output_type": "display_data",
          "data": {
            "image/png": "[encoded data removed]",
            "text/plain": [
              "<Figure size 432x288 with 1 Axes>"
            ]
          },
          "metadata": {
            "tags": [],
            "needs_background": "light"
          }
        }
      ]
    },
    {
      "cell_type": "code",
      "metadata": {
        "id": "ODa-faXbDGVR",
        "colab": {
          "base_uri": "https://localhost:8080/"
        },
        "outputId": "3dab7b27-30c3-4338-e86a-11b6525edd6a"
      },
      "source": [
        "x_in = np.array([[\n",
        "  [[2], [1], [2], [0], [1]],\n",
        "  [[1], [3], [2], [2], [3]],\n",
        "  [[1], [1], [3], [3], [0]],\n",
        "  [[2], [2], [0], [1], [1]],\n",
        "  [[0], [0], [3], [1], [2]], ]])\n",
        "x = tf.constant(x_in, dtype=tf.float32)\n",
        "print(x.shape)\n",
        "\n",
        "# 2 x 2 커널 2개 적용\n",
        "kernel_in = np.array([\n",
        " [ [[2, 0.1]],[[3, 0.2]] ],\n",
        " [ [[0, 0.3]],[[1, 0.4]] ], ])\n",
        "kernel = tf.constant(kernel_in, dtype=tf.float32)\n",
        "print(kernel)"
      ],
      "execution_count": 9,
      "outputs": [
        {
          "output_type": "stream",
          "text": [
            "(1, 5, 5, 1)\n",
            "tf.Tensor(\n",
            "[[[[2.  0.1]]\n",
            "\n",
            "  [[3.  0.2]]]\n",
            "\n",
            "\n",
            " [[[0.  0.3]]\n",
            "\n",
            "  [[1.  0.4]]]], shape=(2, 2, 1, 2), dtype=float32)\n"
          ],
          "name": "stdout"
        }
      ]
    },
    {
      "cell_type": "code",
      "metadata": {
        "colab": {
          "base_uri": "https://localhost:8080/"
        },
        "id": "v-eFNl7vwblK",
        "outputId": "531a66cf-7486-4b62-c1f7-539442af622e"
      },
      "source": [
        "conv2d = tf.nn.conv2d(x, kernel, strides=[1, 1, 1, 1], padding='VALID')\n",
        "print(\"conv2d.shape\", conv2d.shape) #1, 4, 4, 2 = 채널, 가로, 세로, 특징 수\n",
        "print(conv2d)"
      ],
      "execution_count": 10,
      "outputs": [
        {
          "output_type": "stream",
          "text": [
            "conv2d.shape (1, 4, 4, 2)\n",
            "tf.Tensor(\n",
            "[[[[10.         1.9      ]\n",
            "   [10.         2.2      ]\n",
            "   [ 6.         1.6      ]\n",
            "   [ 6.         2.       ]]\n",
            "\n",
            "  [[12.         1.4      ]\n",
            "   [15.         2.2      ]\n",
            "   [13.         2.7      ]\n",
            "   [13.         1.7      ]]\n",
            "\n",
            "  [[ 7.         1.7      ]\n",
            "   [11.         1.3000001]\n",
            "   [16.         1.3      ]\n",
            "   [ 7.         1.       ]]\n",
            "\n",
            "  [[10.         0.6      ]\n",
            "   [ 7.         1.4000001]\n",
            "   [ 4.         1.5      ]\n",
            "   [ 7.         1.4      ]]]], shape=(1, 4, 4, 2), dtype=float32)\n"
          ],
          "name": "stdout"
        }
      ]
    },
    {
      "cell_type": "code",
      "metadata": {
        "colab": {
          "base_uri": "https://localhost:8080/"
        },
        "id": "_MVgpDvLgRYP",
        "outputId": "e96cf38b-52ce-479e-acdf-d224cc4f3749"
      },
      "source": [
        "# (1, 4, 4, 2) = 채널, 가로, 세로, 특징 수\n",
        "# 채널과 특징을 교환하여 그림을 그리도록 하기 위해\n",
        "conv2d_img = np.swapaxes(conv2d, 0, 3)\n",
        "print(\"conv2d.shape\", conv2d_img.shape) #2, 4, 4, 1 = 특징 수, 가로, 세로, 채널\n",
        "print(conv2d_img)"
      ],
      "execution_count": 11,
      "outputs": [
        {
          "output_type": "stream",
          "text": [
            "conv2d.shape (2, 4, 4, 1)\n",
            "[[[[10.       ]\n",
            "   [10.       ]\n",
            "   [ 6.       ]\n",
            "   [ 6.       ]]\n",
            "\n",
            "  [[12.       ]\n",
            "   [15.       ]\n",
            "   [13.       ]\n",
            "   [13.       ]]\n",
            "\n",
            "  [[ 7.       ]\n",
            "   [11.       ]\n",
            "   [16.       ]\n",
            "   [ 7.       ]]\n",
            "\n",
            "  [[10.       ]\n",
            "   [ 7.       ]\n",
            "   [ 4.       ]\n",
            "   [ 7.       ]]]\n",
            "\n",
            "\n",
            " [[[ 1.9      ]\n",
            "   [ 2.2      ]\n",
            "   [ 1.6      ]\n",
            "   [ 2.       ]]\n",
            "\n",
            "  [[ 1.4      ]\n",
            "   [ 2.2      ]\n",
            "   [ 2.7      ]\n",
            "   [ 1.7      ]]\n",
            "\n",
            "  [[ 1.7      ]\n",
            "   [ 1.3000001]\n",
            "   [ 1.3      ]\n",
            "   [ 1.       ]]\n",
            "\n",
            "  [[ 0.6      ]\n",
            "   [ 1.4000001]\n",
            "   [ 1.5      ]\n",
            "   [ 1.4      ]]]]\n"
          ],
          "name": "stdout"
        }
      ]
    },
    {
      "cell_type": "code",
      "metadata": {
        "colab": {
          "base_uri": "https://localhost:8080/",
          "height": 345
        },
        "id": "wSM_syu4h48t",
        "outputId": "dd61e072-cfa5-45c2-c4f1-ab4e953b7170"
      },
      "source": [
        "for i, one_img in enumerate(conv2d_img):\n",
        "    print(one_img.reshape(4,4))\n",
        "    plt.subplot(1,2,i+1), plt.imshow(one_img.reshape(4,4), cmap='gray')"
      ],
      "execution_count": 12,
      "outputs": [
        {
          "output_type": "stream",
          "text": [
            "[[10. 10.  6.  6.]\n",
            " [12. 15. 13. 13.]\n",
            " [ 7. 11. 16.  7.]\n",
            " [10.  7.  4.  7.]]\n",
            "[[1.9       2.2       1.6       2.       ]\n",
            " [1.4       2.2       2.7       1.7      ]\n",
            " [1.7       1.3000001 1.3       1.       ]\n",
            " [0.6       1.4000001 1.5       1.4      ]]\n"
          ],
          "name": "stdout"
        },
        {
          "output_type": "display_data",
          "data": {
            "image/png": "[encoded data removed]",
            "text/plain": [
              "<Figure size 432x288 with 2 Axes>"
            ]
          },
          "metadata": {
            "tags": [],
            "needs_background": "light"
          }
        }
      ]
    },
    {
      "cell_type": "code",
      "metadata": {
        "id": "QxryMgmEVmji",
        "colab": {
          "base_uri": "https://localhost:8080/",
          "height": 313
        },
        "outputId": "c68ef37c-e616-4aa3-80a8-37ada9a3626a"
      },
      "source": [
        "image = np.array([[[[1],[2],[3]],\n",
        "                   [[4],[5],[6]], \n",
        "                   [[7],[8],[9]]]], dtype=np.float32)\n",
        "print(\"image.shape\", image.shape)\n",
        "\n",
        "weight = tf.constant([[[[1.]],[[1.]]],\n",
        "                      [[[1.]],[[1.]]]])\n",
        "print(\"weight.shape\", weight.shape)\n",
        "\n",
        "conv2d = tf.nn.conv2d(image, weight, strides=[1, 1, 1, 1], padding='SAME')\n",
        "print(\"conv2d.shape\", conv2d.shape)\n",
        "\n",
        "conv2d_img = np.swapaxes(conv2d, 0, 3)\n",
        "for i, one_img in enumerate(conv2d_img):\n",
        "    print(one_img.reshape(3,3))\n",
        "    plt.subplot(1,2,i+1), plt.imshow(one_img.reshape(3,3), cmap='gray')"
      ],
      "execution_count": 13,
      "outputs": [
        {
          "output_type": "stream",
          "text": [
            "image.shape (1, 3, 3, 1)\n",
            "weight.shape (2, 2, 1, 1)\n",
            "conv2d.shape (1, 3, 3, 1)\n",
            "[[12. 16.  9.]\n",
            " [24. 28. 15.]\n",
            " [15. 17.  9.]]\n"
          ],
          "name": "stdout"
        },
        {
          "output_type": "display_data",
          "data": {
            "image/png": "[encoded data removed]",
            "text/plain": [
              "<Figure size 432x288 with 1 Axes>"
            ]
          },
          "metadata": {
            "tags": [],
            "needs_background": "light"
          }
        }
      ]
    },
    {
      "cell_type": "code",
      "metadata": {
        "id": "XV0Os9YEVmjl",
        "colab": {
          "base_uri": "https://localhost:8080/",
          "height": 365
        },
        "outputId": "7e30a4ee-4135-4718-d760-a01ad994fdd9"
      },
      "source": [
        "image = np.array([[[[1],[2],[3]],\n",
        "                   [[4],[5],[6]], \n",
        "                   [[7],[8],[9]]]], dtype=np.float32)\n",
        "# print(\"imag:\\n\", image)\n",
        "print(\"image.shape\", image.shape)\n",
        "\n",
        "weight = tf.constant([[[[1.,10.,-1.]],[[1.,10.,-1.]]],\n",
        "                      [[[1.,10.,-1.]],[[1.,10.,-1.]]]])\n",
        "print(\"weight.shape\", weight.shape)\n",
        "\n",
        "conv2d = tf.nn.conv2d(image, weight, strides=[1, 1, 1, 1], padding='SAME')\n",
        "print(\"conv2d.shape\", conv2d.shape)\n",
        "\n",
        "conv2d_img = np.swapaxes(conv2d, 0, 3)\n",
        "for i, one_img in enumerate(conv2d_img):\n",
        "    print(one_img.reshape(3,3))\n",
        "    plt.subplot(1,3,i+1), plt.imshow(one_img.reshape(3,3), cmap='gray')"
      ],
      "execution_count": 14,
      "outputs": [
        {
          "output_type": "stream",
          "text": [
            "image.shape (1, 3, 3, 1)\n",
            "weight.shape (2, 2, 1, 3)\n",
            "conv2d.shape (1, 3, 3, 3)\n",
            "[[12. 16.  9.]\n",
            " [24. 28. 15.]\n",
            " [15. 17.  9.]]\n",
            "[[120. 160.  90.]\n",
            " [240. 280. 150.]\n",
            " [150. 170.  90.]]\n",
            "[[-12. -16.  -9.]\n",
            " [-24. -28. -15.]\n",
            " [-15. -17.  -9.]]\n"
          ],
          "name": "stdout"
        },
        {
          "output_type": "display_data",
          "data": {
            "image/png": "[encoded data removed]",
            "text/plain": [
              "<Figure size 432x288 with 3 Axes>"
            ]
          },
          "metadata": {
            "tags": [],
            "needs_background": "light"
          }
        }
      ]
    },
    {
      "cell_type": "code",
      "metadata": {
        "id": "zBAfRr0xVmjo",
        "colab": {
          "base_uri": "https://localhost:8080/"
        },
        "outputId": "9679769e-9e6b-421c-d8f5-865dd1434d8d"
      },
      "source": [
        "image = np.array([[[[4],[3]],\n",
        "                    [[2],[1]]]], dtype=np.float32)\n",
        "print(image.shape)\n",
        "pool = tf.nn.max_pool(image, ksize=[1, 2, 2, 1],\n",
        "                    strides=[1, 1, 1, 1], padding='VALID')\n",
        "print(pool.shape)\n",
        "print(pool.numpy())"
      ],
      "execution_count": 15,
      "outputs": [
        {
          "output_type": "stream",
          "text": [
            "(1, 2, 2, 1)\n",
            "(1, 1, 1, 1)\n",
            "[[[[4.]]]]\n"
          ],
          "name": "stdout"
        }
      ]
    },
    {
      "cell_type": "code",
      "metadata": {
        "id": "5pPF0DDsVmjr",
        "colab": {
          "base_uri": "https://localhost:8080/"
        },
        "outputId": "d521a0a9-b35e-4205-945f-b16c457fba09"
      },
      "source": [
        "image = np.array([[[[4],[3]],\n",
        "                    [[2],[1]]]], dtype=np.float32)\n",
        "pool = tf.nn.max_pool(image, ksize=[1, 2, 2, 1],\n",
        "                    strides=[1, 1, 1, 1], padding='SAME')\n",
        "print(pool.shape)\n",
        "print(pool.numpy())"
      ],
      "execution_count": 16,
      "outputs": [
        {
          "output_type": "stream",
          "text": [
            "(1, 2, 2, 1)\n",
            "[[[[4.]\n",
            "   [3.]]\n",
            "\n",
            "  [[2.]\n",
            "   [1.]]]]\n"
          ],
          "name": "stdout"
        }
      ]
    },
    {
      "cell_type": "code",
      "metadata": {
        "id": "HEeivrdSc-CG",
        "colab": {
          "base_uri": "https://localhost:8080/"
        },
        "outputId": "83435f61-0240-4421-abfc-26bf30703141"
      },
      "source": [
        "import tensorflow as tf\n",
        "mnist = tf.keras.datasets.mnist\n",
        "\n",
        "mnist = mnist.load_data()"
      ],
      "execution_count": 17,
      "outputs": [
        {
          "output_type": "stream",
          "text": [
            "Downloading data from https://storage.googleapis.com/tensorflow/tf-keras-datasets/mnist.npz\n",
            "11493376/11490434 [==============================] - 0s 0us/step\n"
          ],
          "name": "stdout"
        }
      ]
    },
    {
      "cell_type": "code",
      "metadata": {
        "id": "gTjORZkRVmjy",
        "colab": {
          "base_uri": "https://localhost:8080/",
          "height": 283
        },
        "outputId": "c76f2c69-d9b9-4a9e-bf67-b86296ea2222"
      },
      "source": [
        "# mnist[0][0][0]: 학습 데이터, 이미지 중, 첫번째  \n",
        "img = mnist[0][0][0].reshape(28,28)\n",
        "plt.imshow(img, cmap='gray')\n",
        "print(img.shape)"
      ],
      "execution_count": 18,
      "outputs": [
        {
          "output_type": "stream",
          "text": [
            "(28, 28)\n"
          ],
          "name": "stdout"
        },
        {
          "output_type": "display_data",
          "data": {
            "image/png": "[encoded data removed]",
            "text/plain": [
              "<Figure size 432x288 with 1 Axes>"
            ]
          },
          "metadata": {
            "tags": [],
            "needs_background": "light"
          }
        }
      ]
    },
    {
      "cell_type": "code",
      "metadata": {
        "id": "ao1bjNdcVmj1",
        "colab": {
          "base_uri": "https://localhost:8080/",
          "height": 126
        },
        "outputId": "0bd2cfe8-bc2b-4636-c18b-9d0c9cb1a48e"
      },
      "source": [
        "# 4차원으로 확장\n",
        "img = img.reshape(-1,28,28,1)\n",
        "# 3 x 3의 필터 5개 생성\n",
        "W1 = tf.Variable(tf.random.normal([3, 3, 1, 5], stddev=0.01))\n",
        "\n",
        "#conv2d = tf.nn.conv2d(img, W1, strides=[1, 2, 2, 1], padding='SAME')\n",
        "conv2d = tf.nn.conv2d(img, W1, strides=2, padding='SAME')\n",
        "print(conv2d.shape)\n",
        "\n",
        "conv2d_img = np.swapaxes(conv2d, 0, 3)\n",
        "for i, one_img in enumerate(conv2d_img):\n",
        "    plt.subplot(1,5,i+1)\n",
        "    plt.imshow(one_img.reshape(14,14), cmap='gray')\n"
      ],
      "execution_count": 19,
      "outputs": [
        {
          "output_type": "stream",
          "text": [
            "(1, 14, 14, 5)\n"
          ],
          "name": "stdout"
        },
        {
          "output_type": "display_data",
          "data": {
            "image/png": "[encoded data removed]",
            "text/plain": [
              "<Figure size 432x288 with 5 Axes>"
            ]
          },
          "metadata": {
            "tags": [],
            "needs_background": "light"
          }
        }
      ]
    },
    {
      "cell_type": "code",
      "metadata": {
        "id": "-ose3K7IVmj3",
        "colab": {
          "base_uri": "https://localhost:8080/",
          "height": 125
        },
        "outputId": "38266c4d-70f8-4a28-ecdd-7dae063bc9c7"
      },
      "source": [
        "pool = tf.nn.max_pool(conv2d, ksize=[1, 2, 2, 1], \n",
        "                      strides=[1, 2, 2, 1], padding='SAME')\n",
        "print(pool.shape)\n",
        "\n",
        "pool_img = np.swapaxes(pool, 0, 3)\n",
        "for i, one_img in enumerate(pool_img):\n",
        "    plt.subplot(1,5,i+1)\n",
        "    plt.imshow(one_img.reshape(7, 7), cmap='gray')"
      ],
      "execution_count": 20,
      "outputs": [
        {
          "output_type": "stream",
          "text": [
            "(1, 7, 7, 5)\n"
          ],
          "name": "stdout"
        },
        {
          "output_type": "display_data",
          "data": {
            "image/png": "[encoded data removed]",
            "text/plain": [
              "<Figure size 432x288 with 5 Axes>"
            ]
          },
          "metadata": {
            "tags": [],
            "needs_background": "light"
          }
        }
      ]
    },
    {
      "cell_type": "code",
      "metadata": {
        "id": "dMEMC4uC3hus"
      },
      "source": [
        ""
      ],
      "execution_count": 20,
      "outputs": []
    }
  ]
}