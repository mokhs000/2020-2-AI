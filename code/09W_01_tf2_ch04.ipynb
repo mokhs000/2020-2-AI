{
  "nbformat": 4,
  "nbformat_minor": 0,
  "metadata": {
    "colab": {
      "name": "09W-01-tf2-ch04.ipynb",
      "provenance": [],
      "collapsed_sections": [],
      "include_colab_link": true
    },
    "kernelspec": {
      "name": "python3",
      "display_name": "Python 3"
    }
  },
  "cells": [
    {
      "cell_type": "markdown",
      "metadata": {
        "id": "view-in-github",
        "colab_type": "text"
      },
      "source": [
        "<a href=\"https://colab.research.google.com/github/mokhs000/2020-2-AI/blob/master/code/09W_01_tf2_ch04.ipynb\" target=\"_parent\"><img src=\"https://colab.research.google.com/assets/colab-badge.svg\" alt=\"Open In Colab\"/></a>"
      ]
    },
    {
      "cell_type": "markdown",
      "metadata": {
        "id": "txgrpMtgADBa"
      },
      "source": [
        "# 활성화 함수 tanh"
      ]
    },
    {
      "cell_type": "code",
      "metadata": {
        "id": "CFNinl8sAPsT",
        "colab": {
          "base_uri": "https://localhost:8080/",
          "height": 374
        },
        "outputId": "ca062fbc-8fe4-4078-ef8e-2d4f413a7c69"
      },
      "source": [
        "# 그림 4.2 출력 코드\n",
        "import math\n",
        "import numpy as np\n",
        "import matplotlib.pyplot as plt\n",
        "\n",
        "def sigmoid(x):\n",
        "    return 1 / (1 + math.exp(-x))\n",
        "\n",
        "x = np.arange(-6, 6, 0.01)\n",
        "sigmoid_x = [sigmoid(z) for z in x]\n",
        "tanh_x = [math.tanh(z) for z in x]\n",
        "\n",
        "plt.figure(figsize=(8, 6)) \n",
        "\n",
        "plt.axhline(0, color='gray')\n",
        "plt.axvline(0, color='gray')\n",
        "plt.plot(x, sigmoid_x, 'b-', label='sigmoid')\n",
        "plt.plot(x, tanh_x, 'r--', label='tanh')\n",
        "plt.legend()\n",
        "plt.show()"
      ],
      "execution_count": 1,
      "outputs": [
        {
          "output_type": "display_data",
          "data": {
            "image/png": "[encoded data removed]",
            "text/plain": [
              "<Figure size 576x432 with 1 Axes>"
            ]
          },
          "metadata": {
            "tags": [],
            "needs_background": "light"
          }
        }
      ]
    },
    {
      "cell_type": "markdown",
      "metadata": {
        "id": "FYYdK5i0AO-p"
      },
      "source": [
        ""
      ]
    },
    {
      "cell_type": "markdown",
      "metadata": {
        "id": "aqrArZnVAOV3"
      },
      "source": [
        "# 인구증가율과 고령인구비율 회귀 분석"
      ]
    },
    {
      "cell_type": "code",
      "metadata": {
        "id": "jtFoinaq9cm2",
        "colab": {
          "base_uri": "https://localhost:8080/"
        },
        "outputId": "f2a3e7da-c64c-4afb-9d73-c1dda0bb92ef"
      },
      "source": [
        "# 4.7 딥러닝 네트워크를 이용한 회귀\n",
        "import tensorflow as tf\n",
        "import numpy as np\n",
        "\n",
        "# 인구증가율과 고령인구비율\n",
        "X = [0.3, -0.78, 1.26, 0.03, 1.11, 0.24, -0.24, -0.47, -0.77, -0.37, -0.85, -0.41, -0.27, 0.02, -0.76, 2.66]\n",
        "Y = [12.27, 14.44, 11.87, 18.75, 17.52, 16.37, 19.78, 19.51, 12.65, 14.74, 10.72, 21.94, 12.83, 15.51, 17.14, 14.42]\n",
        "\n",
        "model = tf.keras.Sequential([\n",
        "    tf.keras.layers.Dense(units=6, activation='tanh', input_shape=(1,)),\n",
        "    tf.keras.layers.Dense(units=1)\n",
        "])\n",
        "\n",
        "model.compile(optimizer=tf.keras.optimizers.SGD(lr=0.1), loss='mse')\n",
        "\n",
        "model.summary()"
      ],
      "execution_count": 2,
      "outputs": [
        {
          "output_type": "stream",
          "text": [
            "Model: \"sequential\"\n",
            "_________________________________________________________________\n",
            "Layer (type)                 Output Shape              Param #   \n",
            "=================================================================\n",
            "dense (Dense)                (None, 6)                 12        \n",
            "_________________________________________________________________\n",
            "dense_1 (Dense)              (None, 1)                 7         \n",
            "=================================================================\n",
            "Total params: 19\n",
            "Trainable params: 19\n",
            "Non-trainable params: 0\n",
            "_________________________________________________________________\n"
          ],
          "name": "stdout"
        }
      ]
    },
    {
      "cell_type": "code",
      "metadata": {
        "id": "XS-ap3aB-WsX",
        "colab": {
          "base_uri": "https://localhost:8080/"
        },
        "outputId": "7f023fd1-a35d-4d94-fcd0-93c646034dc8"
      },
      "source": [
        "# 4.8 딥러닝 네트워크의 학습\n",
        "model.fit(X, Y, epochs=10)"
      ],
      "execution_count": 3,
      "outputs": [
        {
          "output_type": "stream",
          "text": [
            "Epoch 1/10\n",
            "1/1 [==============================] - 0s 1ms/step - loss: 253.4973\n",
            "Epoch 2/10\n",
            "1/1 [==============================] - 0s 1ms/step - loss: 101.6459\n",
            "Epoch 3/10\n",
            "1/1 [==============================] - 0s 3ms/step - loss: 9.9027\n",
            "Epoch 4/10\n",
            "1/1 [==============================] - 0s 2ms/step - loss: 9.7163\n",
            "Epoch 5/10\n",
            "1/1 [==============================] - 0s 1ms/step - loss: 9.6927\n",
            "Epoch 6/10\n",
            "1/1 [==============================] - 0s 1ms/step - loss: 9.6867\n",
            "Epoch 7/10\n",
            "1/1 [==============================] - 0s 1ms/step - loss: 9.6838\n",
            "Epoch 8/10\n",
            "1/1 [==============================] - 0s 2ms/step - loss: 9.6816\n",
            "Epoch 9/10\n",
            "1/1 [==============================] - 0s 3ms/step - loss: 9.6795\n",
            "Epoch 10/10\n",
            "1/1 [==============================] - 0s 1ms/step - loss: 9.6774\n"
          ],
          "name": "stdout"
        },
        {
          "output_type": "execute_result",
          "data": {
            "text/plain": [
              "<tensorflow.python.keras.callbacks.History at 0x7fdfae167a58>"
            ]
          },
          "metadata": {
            "tags": []
          },
          "execution_count": 3
        }
      ]
    },
    {
      "cell_type": "code",
      "metadata": {
        "id": "lFhu0Pw3-tk3",
        "colab": {
          "base_uri": "https://localhost:8080/"
        },
        "outputId": "0ce3cfc2-b912-40ed-b2f4-3795b0d389f2"
      },
      "source": [
        "# 4.9 딥러닝 네트워크의 Y값 예측\n",
        "model.predict(X)"
      ],
      "execution_count": 4,
      "outputs": [
        {
          "output_type": "execute_result",
          "data": {
            "text/plain": [
              "array([[15.73312 ],\n",
              "       [15.84431 ],\n",
              "       [15.384257],\n",
              "       [15.781972],\n",
              "       [15.461477],\n",
              "       [15.745448],\n",
              "       [15.815386],\n",
              "       [15.833371],\n",
              "       [15.844177],\n",
              "       [15.826653],\n",
              "       [15.844842],\n",
              "       [15.829538],\n",
              "       [15.818249],\n",
              "       [15.78347 ],\n",
              "       [15.84403 ],\n",
              "       [14.04062 ]], dtype=float32)"
            ]
          },
          "metadata": {
            "tags": []
          },
          "execution_count": 4
        }
      ]
    },
    {
      "cell_type": "code",
      "metadata": {
        "id": "0PjmGzCZ_u3I",
        "colab": {
          "base_uri": "https://localhost:8080/",
          "height": 279
        },
        "outputId": "1f6d5a0c-9523-4eee-c559-46fe599cec78"
      },
      "source": [
        "# 4.10 딥러닝 네트워크의 회귀선 확인\n",
        "import matplotlib.pyplot as plt\n",
        "\n",
        "line_x = np.arange(min(X), max(X), 0.01)\n",
        "line_y = model.predict(line_x)\n",
        "\n",
        "plt.plot(line_x, line_y, 'r-')\n",
        "plt.plot(X, Y, 'bo')\n",
        "\n",
        "plt.xlabel('Population Growth Rate (%)')\n",
        "plt.ylabel('Elderly Population Rate (%)')\n",
        "plt.show()"
      ],
      "execution_count": 5,
      "outputs": [
        {
          "output_type": "display_data",
          "data": {
            "image/png": "[encoded data removed]",
            "text/plain": [
              "<Figure size 432x288 with 1 Axes>"
            ]
          },
          "metadata": {
            "tags": [],
            "needs_background": "light"
          }
        }
      ]
    },
    {
      "cell_type": "code",
      "metadata": {
        "id": "Gen8OuFAmPMC",
        "colab": {
          "base_uri": "https://localhost:8080/"
        },
        "outputId": "a40cbe7a-1db1-4dde-e3d4-0888d503b662"
      },
      "source": [
        "# 4.7 딥러닝 네트워크를 이용한 회귀\n",
        "import tensorflow as tf\n",
        "import numpy as np\n",
        "\n",
        "# 인구증가율과 고령인구비율\n",
        "X = [0.3, -0.78, 1.26, 0.03, 1.11, 0.24, -0.24, -0.47, -0.77, -0.37, -0.85, -0.41, -0.27, 0.02, -0.76, 2.66]\n",
        "Y = [12.27, 14.44, 11.87, 18.75, 17.52, 16.37, 19.78, 19.51, 12.65, 14.74, 10.72, 21.94, 12.83, 15.51, 17.14, 14.42]\n",
        "\n",
        "model = tf.keras.Sequential([\n",
        "    tf.keras.layers.Dense(units=6, activation='tanh', input_shape=(1,)),\n",
        "    tf.keras.layers.Dense(units=1)\n",
        "])\n",
        "\n",
        "model.compile(optimizer=tf.keras.optimizers.SGD(lr=0.1), loss='mse')\n",
        "\n",
        "model.summary()\n",
        "\n",
        "# 4.8 딥러닝 네트워크의 학습\n",
        "model.fit(X, Y, epochs=10)\n",
        "\n",
        "# 4.9 딥러닝 네트워크의 Y값 예측\n",
        "model.predict(X)"
      ],
      "execution_count": 6,
      "outputs": [
        {
          "output_type": "stream",
          "text": [
            "Model: \"sequential_1\"\n",
            "_________________________________________________________________\n",
            "Layer (type)                 Output Shape              Param #   \n",
            "=================================================================\n",
            "dense_2 (Dense)              (None, 6)                 12        \n",
            "_________________________________________________________________\n",
            "dense_3 (Dense)              (None, 1)                 7         \n",
            "=================================================================\n",
            "Total params: 19\n",
            "Trainable params: 19\n",
            "Non-trainable params: 0\n",
            "_________________________________________________________________\n",
            "Epoch 1/10\n",
            "1/1 [==============================] - 0s 2ms/step - loss: 255.8490\n",
            "Epoch 2/10\n",
            "1/1 [==============================] - 0s 2ms/step - loss: 106.6979\n",
            "Epoch 3/10\n",
            "1/1 [==============================] - 0s 1ms/step - loss: 9.7054\n",
            "Epoch 4/10\n",
            "1/1 [==============================] - 0s 1ms/step - loss: 9.6746\n",
            "Epoch 5/10\n",
            "1/1 [==============================] - 0s 2ms/step - loss: 9.6657\n",
            "Epoch 6/10\n",
            "1/1 [==============================] - 0s 2ms/step - loss: 9.6602\n",
            "Epoch 7/10\n",
            "1/1 [==============================] - 0s 4ms/step - loss: 9.6555\n",
            "Epoch 8/10\n",
            "1/1 [==============================] - 0s 2ms/step - loss: 9.6507\n",
            "Epoch 9/10\n",
            "1/1 [==============================] - 0s 4ms/step - loss: 9.6457\n",
            "Epoch 10/10\n",
            "1/1 [==============================] - 0s 4ms/step - loss: 9.6402\n"
          ],
          "name": "stdout"
        },
        {
          "output_type": "execute_result",
          "data": {
            "text/plain": [
              "array([[15.680293 ],\n",
              "       [15.896153 ],\n",
              "       [15.219164 ],\n",
              "       [15.7713585],\n",
              "       [15.303904 ],\n",
              "       [15.702281 ],\n",
              "       [15.839954 ],\n",
              "       [15.878045 ],\n",
              "       [15.896209 ],\n",
              "       [15.863926 ],\n",
              "       [15.89452  ],\n",
              "       [15.870034 ],\n",
              "       [15.846033 ],\n",
              "       [15.774323 ],\n",
              "       [15.896218 ],\n",
              "       [14.102325 ]], dtype=float32)"
            ]
          },
          "metadata": {
            "tags": []
          },
          "execution_count": 6
        }
      ]
    },
    {
      "cell_type": "markdown",
      "metadata": {
        "id": "IawN3Ebodto_"
      },
      "source": [
        "## 인구증가율과 고령인구비율 회귀 분석\n",
        "* 텐서플로만을 이용한 회귀 분석"
      ]
    },
    {
      "cell_type": "code",
      "metadata": {
        "id": "M2E2Vgq7dsbq",
        "colab": {
          "base_uri": "https://localhost:8080/"
        },
        "outputId": "f1810d49-0f1c-4c97-84ea-41db2051ef59"
      },
      "source": [
        "# 4.4 텐서플로를 이용해서 회귀선 구하기\n",
        "import tensorflow as tf\n",
        "import numpy as np\n",
        "# import random\n",
        "\n",
        "X = [0.3, -0.78, 1.26, 0.03, 1.11, 0.24, -0.24, -0.47, -0.77, -0.37, -0.85, -0.41, -0.27, 0.02, -0.76, 2.66]\n",
        "Y = [12.27, 14.44, 11.87, 18.75, 17.52, 16.37, 19.78, 19.51, 12.65, 14.74, 10.72, 21.94, 12.83, 15.51, 17.14, 14.42]\n",
        "\n",
        "# a와 b를 랜덤한 값으로 초기화합니다.\n",
        "# a = tf.Variable(random.random())\n",
        "# b = tf.Variable(random.random())\n",
        "a = tf.Variable(tf.random.uniform([1], 0, 1))\n",
        "b = tf.Variable(tf.random.uniform([1], 0, 1))\n",
        "\n",
        "# 잔차의 제곱의 평균을 반환하는 함수입니다.\n",
        "def compute_loss():\n",
        "    y_pred = a * X + b\n",
        "    loss = tf.reduce_mean((Y - y_pred) ** 2)\n",
        "    return loss\n",
        "\n",
        "optimizer = tf.keras.optimizers.Adam(lr=0.07)\n",
        "for i in range(1000):\n",
        "    # 잔차의 제곱의 평균을 최소화(minimize)합니다.\n",
        "    optimizer.minimize(compute_loss, var_list=[a, b])\n",
        "    \n",
        "    if i % 100 == 99:\n",
        "        print(i, 'a:', a.numpy(), 'b:', b.numpy(), 'loss:', compute_loss().numpy())\n"
      ],
      "execution_count": 7,
      "outputs": [
        {
          "output_type": "stream",
          "text": [
            "99 a: [0.10518895] b: [7.0353093] loss: 84.15399\n",
            "199 a: [-0.13163862] b: [11.458095] loss: 27.474066\n",
            "299 a: [-0.26559755] b: [13.974222] loss: 12.647488\n",
            "399 a: [-0.32628617] b: [15.114251] loss: 10.088187\n",
            "499 a: [-0.34800223] b: [15.522189] loss: 9.8024\n",
            "599 a: [-0.3541617] b: [15.637901] loss: 9.781788\n",
            "699 a: [-0.35554892] b: [15.663963] loss: 9.780832\n",
            "799 a: [-0.3557959] b: [15.6686] loss: 9.780804\n",
            "899 a: [-0.35582992] b: [15.669243] loss: 9.780804\n",
            "999 a: [-0.35583332] b: [15.669303] loss: 9.780804\n"
          ],
          "name": "stdout"
        }
      ]
    },
    {
      "cell_type": "code",
      "metadata": {
        "id": "cWtjuJvf_zon",
        "colab": {
          "base_uri": "https://localhost:8080/",
          "height": 279
        },
        "outputId": "b5de21d1-5d86-47dd-aca4-88ce11508da6"
      },
      "source": [
        "import matplotlib.pyplot as plt\n",
        "\n",
        "line_x = np.arange(min(X), max(X), 0.01)\n",
        "line_y = a * line_x + b\n",
        "\n",
        "# 그래프를 그립니다.\n",
        "plt.plot(line_x, line_y, 'r-')\n",
        "plt.plot(X, Y, 'bo')\n",
        "plt.xlabel('Population Growth Rate (%)')\n",
        "plt.ylabel('Elderly Population Rate (%)')\n",
        "plt.show()"
      ],
      "execution_count": 8,
      "outputs": [
        {
          "output_type": "display_data",
          "data": {
            "image/png": "[encoded data removed]",
            "text/plain": [
              "<Figure size 432x288 with 1 Axes>"
            ]
          },
          "metadata": {
            "tags": [],
            "needs_background": "light"
          }
        }
      ]
    },
    {
      "cell_type": "markdown",
      "metadata": {
        "id": "HLExgHBAB1v_"
      },
      "source": [
        "# 보스턴 주택 가격 데이터세트(Boston Housing Dataset)"
      ]
    },
    {
      "cell_type": "code",
      "metadata": {
        "id": "jhqfmd2SC9rR",
        "colab": {
          "base_uri": "https://localhost:8080/",
          "height": 374
        },
        "outputId": "3108f9a1-97ee-4ad2-de8c-7bb13b165635"
      },
      "source": [
        "# 활성화 함수\n",
        "import math\n",
        "def sigmoid(x):\n",
        "    return 1 / (1 + math.exp(-x))\n",
        "\n",
        "x = np.arange(-5, 5, 0.01)\n",
        "sigmoid_x = [sigmoid(z) for z in x]\n",
        "tanh_x = [math.tanh(z) for z in x]\n",
        "relu = [0 if z < 0 else z for z in x]\n",
        "\n",
        "plt.figure(figsize=(8, 6)) \n",
        "\n",
        "plt.axhline(0, color='gray')\n",
        "plt.axvline(0, color='gray')\n",
        "plt.plot(x, sigmoid_x, 'b-', label='sigmoid')\n",
        "plt.plot(x, tanh_x, 'r--', label='tanh')\n",
        "plt.plot(x, relu, 'g.', label='relu')\n",
        "plt.legend()\n",
        "plt.show()"
      ],
      "execution_count": 9,
      "outputs": [
        {
          "output_type": "display_data",
          "data": {
            "image/png": "[encoded data removed]",
            "text/plain": [
              "<Figure size 576x432 with 1 Axes>"
            ]
          },
          "metadata": {
            "tags": [],
            "needs_background": "light"
          }
        }
      ]
    },
    {
      "cell_type": "code",
      "metadata": {
        "id": "5TRpUqVYB3W3",
        "colab": {
          "base_uri": "https://localhost:8080/"
        },
        "outputId": "44527b01-573c-40af-c521-db244e5d1514"
      },
      "source": [
        "# 4.11 데이터 불러오기\n",
        "from tensorflow.keras.datasets import boston_housing\n",
        "(train_X, train_Y), (test_X, test_Y) = boston_housing.load_data()\n",
        "\n",
        "print(train_X.shape, test_X.shape)\n",
        "print(train_X[0])\n",
        "print(train_Y[0])"
      ],
      "execution_count": 10,
      "outputs": [
        {
          "output_type": "stream",
          "text": [
            "Downloading data from https://storage.googleapis.com/tensorflow/tf-keras-datasets/boston_housing.npz\n",
            "57344/57026 [==============================] - 0s 0us/step\n",
            "(404, 13) (102, 13)\n",
            "[  1.23247   0.        8.14      0.        0.538     6.142    91.7\n",
            "   3.9769    4.      307.       21.      396.9      18.72   ]\n",
            "15.2\n"
          ],
          "name": "stdout"
        }
      ]
    },
    {
      "cell_type": "code",
      "metadata": {
        "id": "JCJiQEJ6B5Vn",
        "colab": {
          "base_uri": "https://localhost:8080/"
        },
        "outputId": "7a5aad87-7515-4844-ea12-d27a0020f71b"
      },
      "source": [
        "# 4.12 데이터 전처리(정규화)\n",
        "x_mean = train_X.mean(axis=0)\n",
        "x_std = train_X.std(axis=0)\n",
        "train_X -= x_mean\n",
        "train_X /= x_std\n",
        "test_X -= x_mean\n",
        "test_X /= x_std\n",
        "\n",
        "y_mean = train_Y.mean(axis=0)\n",
        "y_std = train_Y.std(axis=0)\n",
        "train_Y -= y_mean\n",
        "train_Y /= y_std\n",
        "test_Y -= y_mean\n",
        "test_Y /= y_std\n",
        "\n",
        "print(train_X[0])\n",
        "print(train_Y[0])"
      ],
      "execution_count": 11,
      "outputs": [
        {
          "output_type": "stream",
          "text": [
            "[-0.27224633 -0.48361547 -0.43576161 -0.25683275 -0.1652266  -0.1764426\n",
            "  0.81306188  0.1166983  -0.62624905 -0.59517003  1.14850044  0.44807713\n",
            "  0.8252202 ]\n",
            "-0.7821526033779157\n"
          ],
          "name": "stdout"
        }
      ]
    },
    {
      "cell_type": "code",
      "metadata": {
        "id": "RUuoTTDaCR2g",
        "colab": {
          "base_uri": "https://localhost:8080/"
        },
        "outputId": "00a2315e-52f9-4c5e-c4de-763f400917d2"
      },
      "source": [
        "\n",
        "# 4.13 Boston Housing Dataset 회귀 모델 생성\n",
        "model = tf.keras.models.Sequential([\n",
        "    tf.keras.layers.Dense(units=52, activation='relu', input_shape=(13,)),\n",
        "    tf.keras.layers.Dense(units=39, activation='relu'),\n",
        "    tf.keras.layers.Dense(units=26, activation='relu'),\n",
        "    tf.keras.layers.Dense(units=1)\n",
        "])\n",
        "\n",
        "model.compile(optimizer=tf.keras.optimizers.Adam(lr=0.07), loss='mse')\n",
        "\n",
        "model.summary()"
      ],
      "execution_count": 12,
      "outputs": [
        {
          "output_type": "stream",
          "text": [
            "Model: \"sequential_2\"\n",
            "_________________________________________________________________\n",
            "Layer (type)                 Output Shape              Param #   \n",
            "=================================================================\n",
            "dense_4 (Dense)              (None, 52)                728       \n",
            "_________________________________________________________________\n",
            "dense_5 (Dense)              (None, 39)                2067      \n",
            "_________________________________________________________________\n",
            "dense_6 (Dense)              (None, 26)                1040      \n",
            "_________________________________________________________________\n",
            "dense_7 (Dense)              (None, 1)                 27        \n",
            "=================================================================\n",
            "Total params: 3,862\n",
            "Trainable params: 3,862\n",
            "Non-trainable params: 0\n",
            "_________________________________________________________________\n"
          ],
          "name": "stdout"
        }
      ]
    },
    {
      "cell_type": "code",
      "metadata": {
        "id": "5wNIp0L6CsgX",
        "colab": {
          "base_uri": "https://localhost:8080/"
        },
        "outputId": "f385f853-65ae-4ae7-ad10-18e44f4d14f7"
      },
      "source": [
        "# 4.14 회귀 모델 학습\n",
        "history = model.fit(train_X, train_Y, epochs=25, batch_size=32, validation_split=0.25)"
      ],
      "execution_count": 13,
      "outputs": [
        {
          "output_type": "stream",
          "text": [
            "Epoch 1/25\n",
            "10/10 [==============================] - 0s 15ms/step - loss: 4.7146 - val_loss: 0.5451\n",
            "Epoch 2/25\n",
            "10/10 [==============================] - 0s 3ms/step - loss: 0.4307 - val_loss: 0.5368\n",
            "Epoch 3/25\n",
            "10/10 [==============================] - 0s 3ms/step - loss: 0.2976 - val_loss: 0.7000\n",
            "Epoch 4/25\n",
            "10/10 [==============================] - 0s 3ms/step - loss: 0.3225 - val_loss: 0.3826\n",
            "Epoch 5/25\n",
            "10/10 [==============================] - 0s 3ms/step - loss: 0.2054 - val_loss: 0.4252\n",
            "Epoch 6/25\n",
            "10/10 [==============================] - 0s 3ms/step - loss: 0.2073 - val_loss: 0.4165\n",
            "Epoch 7/25\n",
            "10/10 [==============================] - 0s 3ms/step - loss: 0.1987 - val_loss: 0.2560\n",
            "Epoch 8/25\n",
            "10/10 [==============================] - 0s 4ms/step - loss: 0.2029 - val_loss: 0.2332\n",
            "Epoch 9/25\n",
            "10/10 [==============================] - 0s 3ms/step - loss: 0.1660 - val_loss: 0.2166\n",
            "Epoch 10/25\n",
            "10/10 [==============================] - 0s 3ms/step - loss: 0.1670 - val_loss: 0.2963\n",
            "Epoch 11/25\n",
            "10/10 [==============================] - 0s 3ms/step - loss: 0.1671 - val_loss: 0.1842\n",
            "Epoch 12/25\n",
            "10/10 [==============================] - 0s 3ms/step - loss: 0.1524 - val_loss: 0.1662\n",
            "Epoch 13/25\n",
            "10/10 [==============================] - 0s 4ms/step - loss: 0.1443 - val_loss: 0.1680\n",
            "Epoch 14/25\n",
            "10/10 [==============================] - 0s 3ms/step - loss: 0.1661 - val_loss: 0.2732\n",
            "Epoch 15/25\n",
            "10/10 [==============================] - 0s 4ms/step - loss: 0.1703 - val_loss: 0.3425\n",
            "Epoch 16/25\n",
            "10/10 [==============================] - 0s 3ms/step - loss: 0.1744 - val_loss: 0.1749\n",
            "Epoch 17/25\n",
            "10/10 [==============================] - 0s 3ms/step - loss: 0.1357 - val_loss: 0.2555\n",
            "Epoch 18/25\n",
            "10/10 [==============================] - 0s 3ms/step - loss: 0.1527 - val_loss: 0.3024\n",
            "Epoch 19/25\n",
            "10/10 [==============================] - 0s 3ms/step - loss: 0.1300 - val_loss: 0.2109\n",
            "Epoch 20/25\n",
            "10/10 [==============================] - 0s 3ms/step - loss: 0.1283 - val_loss: 0.1381\n",
            "Epoch 21/25\n",
            "10/10 [==============================] - 0s 3ms/step - loss: 0.1087 - val_loss: 0.1640\n",
            "Epoch 22/25\n",
            "10/10 [==============================] - 0s 3ms/step - loss: 0.1183 - val_loss: 0.1964\n",
            "Epoch 23/25\n",
            "10/10 [==============================] - 0s 4ms/step - loss: 0.1115 - val_loss: 0.1960\n",
            "Epoch 24/25\n",
            "10/10 [==============================] - 0s 4ms/step - loss: 0.1018 - val_loss: 0.1691\n",
            "Epoch 25/25\n",
            "10/10 [==============================] - 0s 3ms/step - loss: 0.1017 - val_loss: 0.2149\n"
          ],
          "name": "stdout"
        }
      ]
    },
    {
      "cell_type": "code",
      "metadata": {
        "id": "LaTwrQU1DRyu",
        "colab": {
          "base_uri": "https://localhost:8080/",
          "height": 279
        },
        "outputId": "eea9bbd6-fd70-4e10-d356-86815c91d184"
      },
      "source": [
        "# 4.15 회귀 모델 학습 결과 시각화\n",
        "import matplotlib.pyplot as plt\n",
        "plt.plot(history.history['loss'], 'b-', label='loss')\n",
        "plt.plot(history.history['val_loss'], 'r--', label='val_loss')\n",
        "plt.xlabel('Epoch')\n",
        "plt.legend()\n",
        "plt.show()"
      ],
      "execution_count": 14,
      "outputs": [
        {
          "output_type": "display_data",
          "data": {
            "image/png": "[encoded data removed]",
            "text/plain": [
              "<Figure size 432x288 with 1 Axes>"
            ]
          },
          "metadata": {
            "tags": [],
            "needs_background": "light"
          }
        }
      ]
    },
    {
      "cell_type": "code",
      "metadata": {
        "id": "gSBZF7D9DVX-",
        "colab": {
          "base_uri": "https://localhost:8080/"
        },
        "outputId": "7feb7708-40e5-41a5-b2b5-a6f5e8a83295"
      },
      "source": [
        "# 4.16 회귀 모델 평가\n",
        "model.evaluate(test_X, test_Y)"
      ],
      "execution_count": 15,
      "outputs": [
        {
          "output_type": "stream",
          "text": [
            "4/4 [==============================] - 0s 2ms/step - loss: 0.2660\n"
          ],
          "name": "stdout"
        },
        {
          "output_type": "execute_result",
          "data": {
            "text/plain": [
              "0.26604756712913513"
            ]
          },
          "metadata": {
            "tags": []
          },
          "execution_count": 15
        }
      ]
    },
    {
      "cell_type": "code",
      "metadata": {
        "id": "YkVBAI6dDem2",
        "colab": {
          "base_uri": "https://localhost:8080/",
          "height": 502
        },
        "outputId": "05ec7140-e125-4180-c935-5c4d1ed1918a"
      },
      "source": [
        "# 4.17 실제 주택 가격과 예측 주택 가격 시각화\n",
        "import matplotlib.pyplot as plt\n",
        "\n",
        "pred_Y = model.predict(test_X)\n",
        "\n",
        "plt.figure(figsize=(8,8))\n",
        "plt.plot(test_Y, pred_Y, 'b.')\n",
        "plt.axis([min(test_Y), max(test_Y), min(test_Y), max(test_Y)])\n",
        "\n",
        "# y=x에 해당하는 대각선\n",
        "plt.plot([min(test_Y), max(test_Y)], [min(test_Y), max(test_Y)], ls=\"--\", c=\".5\")\n",
        "plt.xlabel('test_Y')\n",
        "plt.ylabel('pred_Y')\n",
        "\n",
        "plt.show()"
      ],
      "execution_count": 16,
      "outputs": [
        {
          "output_type": "display_data",
          "data": {
            "image/png": "[encoded data removed]",
            "text/plain": [
              "<Figure size 576x576 with 1 Axes>"
            ]
          },
          "metadata": {
            "tags": [],
            "needs_background": "light"
          }
        }
      ]
    },
    {
      "cell_type": "code",
      "metadata": {
        "id": "sWljciW9Dl9X",
        "colab": {
          "base_uri": "https://localhost:8080/"
        },
        "outputId": "1219b458-e26d-4f8d-e945-f5f8ad638718"
      },
      "source": [
        "# 4.18 모델 재정의 및 학습\n",
        "model = tf.keras.Sequential([\n",
        "    tf.keras.layers.Dense(units=52, activation='relu', input_shape=(13,)),\n",
        "    tf.keras.layers.Dense(units=39, activation='relu'),\n",
        "    tf.keras.layers.Dense(units=26, activation='relu'),\n",
        "    tf.keras.layers.Dense(units=1)\n",
        "])\n",
        "\n",
        "model.compile(optimizer=tf.keras.optimizers.Adam(lr=0.07), loss='mse')\n",
        "\n",
        "history = model.fit(train_X, train_Y, epochs=25, batch_size=32, validation_split=0.25,\n",
        "                    callbacks=[tf.keras.callbacks.EarlyStopping(patience=3, monitor='val_loss')])"
      ],
      "execution_count": 17,
      "outputs": [
        {
          "output_type": "stream",
          "text": [
            "Epoch 1/25\n",
            "10/10 [==============================] - 0s 12ms/step - loss: 2.9998 - val_loss: 0.9144\n",
            "Epoch 2/25\n",
            "10/10 [==============================] - 0s 3ms/step - loss: 0.4901 - val_loss: 0.5220\n",
            "Epoch 3/25\n",
            "10/10 [==============================] - 0s 3ms/step - loss: 0.3304 - val_loss: 0.4707\n",
            "Epoch 4/25\n",
            "10/10 [==============================] - 0s 3ms/step - loss: 0.3153 - val_loss: 0.4007\n",
            "Epoch 5/25\n",
            "10/10 [==============================] - 0s 4ms/step - loss: 0.2785 - val_loss: 0.4050\n",
            "Epoch 6/25\n",
            "10/10 [==============================] - 0s 3ms/step - loss: 0.2331 - val_loss: 0.3837\n",
            "Epoch 7/25\n",
            "10/10 [==============================] - 0s 3ms/step - loss: 0.2077 - val_loss: 0.2978\n",
            "Epoch 8/25\n",
            "10/10 [==============================] - 0s 3ms/step - loss: 0.1759 - val_loss: 0.2334\n",
            "Epoch 9/25\n",
            "10/10 [==============================] - 0s 3ms/step - loss: 0.1505 - val_loss: 0.2300\n",
            "Epoch 10/25\n",
            "10/10 [==============================] - 0s 4ms/step - loss: 0.1876 - val_loss: 0.2924\n",
            "Epoch 11/25\n",
            "10/10 [==============================] - 0s 5ms/step - loss: 0.1668 - val_loss: 0.2742\n",
            "Epoch 12/25\n",
            "10/10 [==============================] - 0s 4ms/step - loss: 0.1774 - val_loss: 0.2928\n"
          ],
          "name": "stdout"
        }
      ]
    },
    {
      "cell_type": "code",
      "metadata": {
        "id": "GSlPsFP-EOSf",
        "colab": {
          "base_uri": "https://localhost:8080/",
          "height": 279
        },
        "outputId": "f6eee50b-dbeb-44b1-d8de-dc21d4ebf067"
      },
      "source": [
        "# 4.19 회귀 모델 학습 결과 시각화\n",
        "import matplotlib.pyplot as plt\n",
        "plt.plot(history.history['loss'], 'b-', label='loss')\n",
        "plt.plot(history.history['val_loss'], 'r--', label='val_loss')\n",
        "plt.xlabel('Epoch')\n",
        "plt.legend()\n",
        "plt.show()"
      ],
      "execution_count": 18,
      "outputs": [
        {
          "output_type": "display_data",
          "data": {
            "image/png": "[encoded data removed]",
            "text/plain": [
              "<Figure size 432x288 with 1 Axes>"
            ]
          },
          "metadata": {
            "tags": [],
            "needs_background": "light"
          }
        }
      ]
    },
    {
      "cell_type": "code",
      "metadata": {
        "id": "ZL4HCaSKES4n",
        "colab": {
          "base_uri": "https://localhost:8080/"
        },
        "outputId": "25bdfea9-877d-4bb9-f91b-100fb81a2014"
      },
      "source": [
        "# 4.20 회귀 모델 평가\n",
        "model.evaluate(test_X, test_Y)"
      ],
      "execution_count": 19,
      "outputs": [
        {
          "output_type": "stream",
          "text": [
            "4/4 [==============================] - 0s 2ms/step - loss: 0.1508\n"
          ],
          "name": "stdout"
        },
        {
          "output_type": "execute_result",
          "data": {
            "text/plain": [
              "0.1507769078016281"
            ]
          },
          "metadata": {
            "tags": []
          },
          "execution_count": 19
        }
      ]
    },
    {
      "cell_type": "code",
      "metadata": {
        "id": "1ik6kYorEZq_",
        "colab": {
          "base_uri": "https://localhost:8080/",
          "height": 502
        },
        "outputId": "8179ca5b-4653-407e-efd3-1f247f9da1db"
      },
      "source": [
        "# 4.21 실제 주택 가격과 예측 주택 가격 시각화\n",
        "import matplotlib.pyplot as plt\n",
        "\n",
        "pred_Y = model.predict(test_X)\n",
        "\n",
        "plt.figure(figsize=(8,8))\n",
        "plt.plot(test_Y, pred_Y, 'b.')\n",
        "plt.axis([min(test_Y), max(test_Y), min(test_Y), max(test_Y)])\n",
        "\n",
        "plt.plot([min(test_Y), max(test_Y)], [min(test_Y), max(test_Y)], ls=\"--\", c=\".3\")\n",
        "plt.xlabel('test_Y')\n",
        "plt.ylabel('pred_Y')\n",
        "\n",
        "plt.show()"
      ],
      "execution_count": 20,
      "outputs": [
        {
          "output_type": "display_data",
          "data": {
            "image/png": "[encoded data removed]",
            "text/plain": [
              "<Figure size 576x576 with 1 Axes>"
            ]
          },
          "metadata": {
            "tags": [],
            "needs_background": "light"
          }
        }
      ]
    },
    {
      "cell_type": "code",
      "metadata": {
        "id": "wzYN7MGpEh3n",
        "colab": {
          "base_uri": "https://localhost:8080/"
        },
        "outputId": "11c9542f-565c-46c3-b234-a7aca9d19581"
      },
      "source": [
        "# 모델 재정의 및 학습, dropout 사용\n",
        "model = tf.keras.Sequential([\n",
        "    tf.keras.layers.Dense(units=52, activation='relu', input_shape=(13,)),\n",
        "    tf.keras.layers.Dropout(.1),\n",
        "    tf.keras.layers.Dense(units=39, activation='relu'),\n",
        "    tf.keras.layers.Dense(units=26, activation='relu'),\n",
        "    tf.keras.layers.Dropout(.1),\n",
        "    tf.keras.layers.Dense(units=1)\n",
        "])\n",
        "\n",
        "model.compile(optimizer=tf.keras.optimizers.Adam(lr=0.07), loss='mse')\n",
        "\n",
        "history = model.fit(train_X, train_Y, epochs=25, batch_size=32, validation_split=0.25,\n",
        "                    callbacks=[tf.keras.callbacks.EarlyStopping(patience=4, monitor='val_loss')])"
      ],
      "execution_count": 21,
      "outputs": [
        {
          "output_type": "stream",
          "text": [
            "Epoch 1/25\n",
            "10/10 [==============================] - 0s 12ms/step - loss: 1.3812 - val_loss: 1.0073\n",
            "Epoch 2/25\n",
            "10/10 [==============================] - 0s 3ms/step - loss: 0.6768 - val_loss: 0.8974\n",
            "Epoch 3/25\n",
            "10/10 [==============================] - 0s 3ms/step - loss: 0.6190 - val_loss: 0.8547\n",
            "Epoch 4/25\n",
            "10/10 [==============================] - 0s 3ms/step - loss: 0.6248 - val_loss: 0.9318\n",
            "Epoch 5/25\n",
            "10/10 [==============================] - 0s 3ms/step - loss: 0.6052 - val_loss: 0.8400\n",
            "Epoch 6/25\n",
            "10/10 [==============================] - 0s 3ms/step - loss: 0.5590 - val_loss: 0.7832\n",
            "Epoch 7/25\n",
            "10/10 [==============================] - 0s 4ms/step - loss: 0.5297 - val_loss: 0.7673\n",
            "Epoch 8/25\n",
            "10/10 [==============================] - 0s 4ms/step - loss: 0.5037 - val_loss: 0.6700\n",
            "Epoch 9/25\n",
            "10/10 [==============================] - 0s 4ms/step - loss: 0.5020 - val_loss: 0.6174\n",
            "Epoch 10/25\n",
            "10/10 [==============================] - 0s 3ms/step - loss: 0.5060 - val_loss: 0.6514\n",
            "Epoch 11/25\n",
            "10/10 [==============================] - 0s 3ms/step - loss: 0.5195 - val_loss: 0.6905\n",
            "Epoch 12/25\n",
            "10/10 [==============================] - 0s 4ms/step - loss: 0.5056 - val_loss: 0.6864\n",
            "Epoch 13/25\n",
            "10/10 [==============================] - 0s 5ms/step - loss: 0.5288 - val_loss: 0.7388\n"
          ],
          "name": "stdout"
        }
      ]
    },
    {
      "cell_type": "code",
      "metadata": {
        "id": "GD2RN3AZICkt",
        "colab": {
          "base_uri": "https://localhost:8080/",
          "height": 279
        },
        "outputId": "fa4feb65-2e1b-4490-e5f9-408a9fca69ff"
      },
      "source": [
        "# 4.19 회귀 모델 학습 결과 시각화\n",
        "import matplotlib.pyplot as plt\n",
        "plt.plot(history.history['loss'], 'b-', label='loss')\n",
        "plt.plot(history.history['val_loss'], 'r--', label='val_loss')\n",
        "plt.xlabel('Epoch')\n",
        "plt.legend()\n",
        "plt.show()"
      ],
      "execution_count": 22,
      "outputs": [
        {
          "output_type": "display_data",
          "data": {
            "image/png": "[encoded data removed]",
            "text/plain": [
              "<Figure size 432x288 with 1 Axes>"
            ]
          },
          "metadata": {
            "tags": [],
            "needs_background": "light"
          }
        }
      ]
    },
    {
      "cell_type": "code",
      "metadata": {
        "id": "c_APeKARIVuu",
        "colab": {
          "base_uri": "https://localhost:8080/"
        },
        "outputId": "55bc585e-33df-4697-8aee-f412542bacc6"
      },
      "source": [
        "# 4.20 회귀 모델 평가\n",
        "model.evaluate(test_X, test_Y)"
      ],
      "execution_count": 23,
      "outputs": [
        {
          "output_type": "stream",
          "text": [
            "4/4 [==============================] - 0s 2ms/step - loss: 0.6007\n"
          ],
          "name": "stdout"
        },
        {
          "output_type": "execute_result",
          "data": {
            "text/plain": [
              "0.6006841063499451"
            ]
          },
          "metadata": {
            "tags": []
          },
          "execution_count": 23
        }
      ]
    },
    {
      "cell_type": "code",
      "metadata": {
        "id": "ET559TvgIrfO",
        "colab": {
          "base_uri": "https://localhost:8080/",
          "height": 540
        },
        "outputId": "dd81fb4e-249f-4e5d-8403-5b63817b4892"
      },
      "source": [
        "# 4.21 실제 주택 가격과 예측 주택 가격 시각화\n",
        "import matplotlib.pyplot as plt\n",
        "\n",
        "pred_Y = model.predict(test_X)\n",
        "\n",
        "plt.figure(figsize=(8,8))\n",
        "plt.plot(test_Y, pred_Y, 'b.')\n",
        "plt.axis([min(test_Y), max(test_Y), min(test_Y), max(test_Y)])\n",
        "\n",
        "plt.plot([min(test_Y), max(test_Y)], [min(test_Y), max(test_Y)], ls=\"--\", c=\".3\")\n",
        "plt.xlabel('test_Y')\n",
        "plt.ylabel('pred_Y')\n",
        "\n",
        "plt.show()"
      ],
      "execution_count": 24,
      "outputs": [
        {
          "output_type": "stream",
          "text": [
            "WARNING:tensorflow:5 out of the last 22 calls to <function Model.make_predict_function.<locals>.predict_function at 0x7fdfa7678d08> triggered tf.function retracing. Tracing is expensive and the excessive number of tracings could be due to (1) creating @tf.function repeatedly in a loop, (2) passing tensors with different shapes, (3) passing Python objects instead of tensors. For (1), please define your @tf.function outside of the loop. For (2), @tf.function has experimental_relax_shapes=True option that relaxes argument shapes that can avoid unnecessary retracing. For (3), please refer to https://www.tensorflow.org/tutorials/customization/performance#python_or_tensor_args and https://www.tensorflow.org/api_docs/python/tf/function for  more details.\n"
          ],
          "name": "stdout"
        },
        {
          "output_type": "display_data",
          "data": {
            "image/png": "[encoded data removed]",
            "text/plain": [
              "<Figure size 576x576 with 1 Axes>"
            ]
          },
          "metadata": {
            "tags": [],
            "needs_background": "light"
          }
        }
      ]
    },
    {
      "cell_type": "code",
      "metadata": {
        "id": "nM9GWf54IzCm"
      },
      "source": [
        ""
      ],
      "execution_count": 24,
      "outputs": []
    }
  ]
}