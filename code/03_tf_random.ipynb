{
  "nbformat": 4,
  "nbformat_minor": 0,
  "metadata": {
    "colab": {
      "name": "03_tf_random.ipynb",
      "provenance": [],
      "authorship_tag": "ABX9TyPpu0B0exwntyWqXfEPKLyu",
      "include_colab_link": true
    },
    "kernelspec": {
      "name": "python3",
      "display_name": "Python 3"
    }
  },
  "cells": [
    {
      "cell_type": "markdown",
      "metadata": {
        "id": "view-in-github",
        "colab_type": "text"
      },
      "source": [
        "<a href=\"https://colab.research.google.com/github/mokhs000/2020-2-AI/blob/master/code/03_tf_random.ipynb\" target=\"_parent\"><img src=\"https://colab.research.google.com/assets/colab-badge.svg\" alt=\"Open In Colab\"/></a>"
      ]
    },
    {
      "cell_type": "code",
      "metadata": {
        "id": "KHYDmYvZhONc",
        "outputId": "41846a41-8cd6-464d-9328-5ac862bc4e2b",
        "colab": {
          "base_uri": "https://localhost:8080/",
          "height": 35
        }
      },
      "source": [
        "import tensorflow as tf\n",
        "tf.__version__"
      ],
      "execution_count": 2,
      "outputs": [
        {
          "output_type": "execute_result",
          "data": {
            "application/vnd.google.colaboratory.intrinsic+json": {
              "type": "string"
            },
            "text/plain": [
              "'2.3.0'"
            ]
          },
          "metadata": {
            "tags": []
          },
          "execution_count": 2
        }
      ]
    },
    {
      "cell_type": "code",
      "metadata": {
        "id": "il9qSrx0hjDQ",
        "outputId": "f6867584-698a-4699-a6a9-d10b3ae3c5f6",
        "colab": {
          "base_uri": "https://localhost:8080/",
          "height": 35
        }
      },
      "source": [
        "rand = tf.random.uniform([1],0,1)\n",
        "print(rand)"
      ],
      "execution_count": 3,
      "outputs": [
        {
          "output_type": "stream",
          "text": [
            "tf.Tensor([0.5036031], shape=(1,), dtype=float32)\n"
          ],
          "name": "stdout"
        }
      ]
    },
    {
      "cell_type": "code",
      "metadata": {
        "id": "AuEfCfifhtaA",
        "outputId": "156fe153-6f01-44b1-c1a1-5a737a0be98f",
        "colab": {
          "base_uri": "https://localhost:8080/",
          "height": 125
        }
      },
      "source": [
        "rand = tf.random.uniform([5,4],0,1)\n",
        "print(rand)"
      ],
      "execution_count": 4,
      "outputs": [
        {
          "output_type": "stream",
          "text": [
            "tf.Tensor(\n",
            "[[0.19243908 0.2836858  0.8428507  0.9026958 ]\n",
            " [0.74099684 0.44614673 0.11751997 0.90497243]\n",
            " [0.6378288  0.47107553 0.69826055 0.24367297]\n",
            " [0.5254885  0.7243203  0.5077176  0.1700046 ]\n",
            " [0.77725554 0.4610839  0.3563187  0.3966998 ]], shape=(5, 4), dtype=float32)\n"
          ],
          "name": "stdout"
        }
      ]
    },
    {
      "cell_type": "code",
      "metadata": {
        "id": "tXTm_K-qhx5L",
        "outputId": "d5f56e81-f842-44f7-9af9-703de1a4b7f5",
        "colab": {
          "base_uri": "https://localhost:8080/",
          "height": 71
        }
      },
      "source": [
        "rand = tf.random.uniform([1000],0,10)\n",
        "print(rand[:10])"
      ],
      "execution_count": 5,
      "outputs": [
        {
          "output_type": "stream",
          "text": [
            "tf.Tensor(\n",
            "[8.64926   6.6602206 4.295517  6.842452  7.3264084 4.580493  3.9125717\n",
            " 5.546232  9.593863  5.136648 ], shape=(10,), dtype=float32)\n"
          ],
          "name": "stdout"
        }
      ]
    },
    {
      "cell_type": "code",
      "metadata": {
        "id": "zewElqBOh69Q",
        "outputId": "48b371e6-5065-4ad5-965c-1903329d473c",
        "colab": {
          "base_uri": "https://localhost:8080/",
          "height": 373
        }
      },
      "source": [
        "import matplotlib.pyplot as plt\n",
        "rand = tf.random.uniform([10000],0,50)\n",
        "plt.hist(rand,bins=10)"
      ],
      "execution_count": 6,
      "outputs": [
        {
          "output_type": "execute_result",
          "data": {
            "text/plain": [
              "(array([ 980., 1005.,  994., 1002.,  985.,  992., 1043.,  997.,  979.,\n",
              "        1023.]),\n",
              " array([6.5982342e-03, 5.0057192e+00, 1.0004840e+01, 1.5003961e+01,\n",
              "        2.0003082e+01, 2.5002203e+01, 3.0001324e+01, 3.5000443e+01,\n",
              "        3.9999565e+01, 4.4998684e+01, 4.9997807e+01], dtype=float32),\n",
              " <a list of 10 Patch objects>)"
            ]
          },
          "metadata": {
            "tags": []
          },
          "execution_count": 6
        },
        {
          "output_type": "display_data",
          "data": {
            "image/png": "[encoded data removed]",
            "text/plain": [
              "<Figure size 432x288 with 1 Axes>"
            ]
          },
          "metadata": {
            "tags": [],
            "needs_background": "light"
          }
        }
      ]
    },
    {
      "cell_type": "code",
      "metadata": {
        "id": "YUZu2B98iDLM",
        "outputId": "6aa28b81-adb9-4ad2-ceb1-65f734e6422f",
        "colab": {
          "base_uri": "https://localhost:8080/",
          "height": 35
        }
      },
      "source": [
        "rand = tf.random.normal([4],0,1)\n",
        "print(rand)"
      ],
      "execution_count": 7,
      "outputs": [
        {
          "output_type": "stream",
          "text": [
            "tf.Tensor([-0.32544747  0.8186965   0.31438988 -0.7071511 ], shape=(4,), dtype=float32)\n"
          ],
          "name": "stdout"
        }
      ]
    },
    {
      "cell_type": "code",
      "metadata": {
        "id": "dlnFg6_LiMVb",
        "outputId": "ccfd97ff-c1c6-4d3e-860a-9932cbbee619",
        "colab": {
          "base_uri": "https://localhost:8080/",
          "height": 71
        }
      },
      "source": [
        "rand = tf.random.normal([2,4],0,2)\n",
        "print(rand)"
      ],
      "execution_count": 8,
      "outputs": [
        {
          "output_type": "stream",
          "text": [
            "tf.Tensor(\n",
            "[[-0.6887237  -0.7340439   0.94558966 -1.08533   ]\n",
            " [-0.9587992  -0.85290414  0.71279705  4.605709  ]], shape=(2, 4), dtype=float32)\n"
          ],
          "name": "stdout"
        }
      ]
    },
    {
      "cell_type": "code",
      "metadata": {
        "id": "IbN_uA6ZiPOy",
        "outputId": "65e3a1fc-11c2-478b-a4fb-d9c3f596cbb6",
        "colab": {
          "base_uri": "https://localhost:8080/",
          "height": 355
        }
      },
      "source": [
        "import matplotlib.pyplot as plt\n",
        "rand = tf.random.normal([100],0,1)\n",
        "plt.hist(rand,bins=10)"
      ],
      "execution_count": 11,
      "outputs": [
        {
          "output_type": "execute_result",
          "data": {
            "text/plain": [
              "(array([ 1.,  4.,  9., 15., 12., 22., 12., 17.,  5.,  3.]),\n",
              " array([-2.7310364 , -2.2326758 , -1.7343149 , -1.2359543 , -0.73759353,\n",
              "        -0.23923278,  0.25912794,  0.75748867,  1.2558494 ,  1.7542101 ,\n",
              "         2.2525709 ], dtype=float32),\n",
              " <a list of 10 Patch objects>)"
            ]
          },
          "metadata": {
            "tags": []
          },
          "execution_count": 11
        },
        {
          "output_type": "display_data",
          "data": {
            "image/png": "[encoded data removed]",
            "text/plain": [
              "<Figure size 432x288 with 1 Axes>"
            ]
          },
          "metadata": {
            "tags": [],
            "needs_background": "light"
          }
        }
      ]
    },
    {
      "cell_type": "code",
      "metadata": {
        "id": "O5u_a5hGiV--",
        "outputId": "c72e2ab1-fa45-433c-b1b0-e35102c55dba",
        "colab": {
          "base_uri": "https://localhost:8080/",
          "height": 895
        }
      },
      "source": [
        "import matplotlib.pyplot as plt\n",
        "rand1 = tf.random.normal([1000],0,1)\n",
        "rand2 = tf.random.uniform([2000],0,1)\n",
        "plt.hist(rand1,bins=100)\n",
        "plt.hist(rand2,bins=100)"
      ],
      "execution_count": 12,
      "outputs": [
        {
          "output_type": "execute_result",
          "data": {
            "text/plain": [
              "(array([24., 17., 18., 19., 27., 14., 18., 20., 26., 19., 18., 19., 22.,\n",
              "        17., 28., 21., 16., 16., 19., 23., 18., 19., 16., 23., 15., 27.,\n",
              "        19., 20., 17., 22., 25., 24., 13., 18., 17., 12., 22., 16., 26.,\n",
              "        17., 19., 23., 16., 19., 16., 13., 13., 18., 21., 20., 19., 22.,\n",
              "        24., 20., 27., 16., 17., 20., 26., 24., 20., 16., 26., 14., 18.,\n",
              "        15., 27., 24., 16., 26., 19., 20., 16., 24., 18., 25., 22., 17.,\n",
              "        27., 18., 20., 22., 22., 18., 19., 14., 25., 23., 15., 15., 21.,\n",
              "        17., 24., 20., 32., 25., 17., 21., 18., 24.]),\n",
              " array([2.3591518e-04, 1.0232601e-02, 2.0229287e-02, 3.0225974e-02,\n",
              "        4.0222660e-02, 5.0219346e-02, 6.0216032e-02, 7.0212714e-02,\n",
              "        8.0209404e-02, 9.0206087e-02, 1.0020278e-01, 1.1019946e-01,\n",
              "        1.2019615e-01, 1.3019283e-01, 1.4018951e-01, 1.5018621e-01,\n",
              "        1.6018289e-01, 1.7017958e-01, 1.8017626e-01, 1.9017296e-01,\n",
              "        2.0016964e-01, 2.1016632e-01, 2.2016300e-01, 2.3015970e-01,\n",
              "        2.4015638e-01, 2.5015306e-01, 2.6014975e-01, 2.7014643e-01,\n",
              "        2.8014311e-01, 2.9013979e-01, 3.0013651e-01, 3.1013319e-01,\n",
              "        3.2012987e-01, 3.3012655e-01, 3.4012324e-01, 3.5011992e-01,\n",
              "        3.6011660e-01, 3.7011328e-01, 3.8011000e-01, 3.9010668e-01,\n",
              "        4.0010336e-01, 4.1010004e-01, 4.2009673e-01, 4.3009341e-01,\n",
              "        4.4009009e-01, 4.5008677e-01, 4.6008348e-01, 4.7008017e-01,\n",
              "        4.8007685e-01, 4.9007353e-01, 5.0007021e-01, 5.1006693e-01,\n",
              "        5.2006358e-01, 5.3006029e-01, 5.4005694e-01, 5.5005366e-01,\n",
              "        5.6005031e-01, 5.7004702e-01, 5.8004367e-01, 5.9004039e-01,\n",
              "        6.0003710e-01, 6.1003375e-01, 6.2003046e-01, 6.3002712e-01,\n",
              "        6.4002383e-01, 6.5002048e-01, 6.6001719e-01, 6.7001390e-01,\n",
              "        6.8001056e-01, 6.9000727e-01, 7.0000392e-01, 7.1000063e-01,\n",
              "        7.1999729e-01, 7.2999400e-01, 7.3999065e-01, 7.4998736e-01,\n",
              "        7.5998408e-01, 7.6998073e-01, 7.7997744e-01, 7.8997409e-01,\n",
              "        7.9997081e-01, 8.0996746e-01, 8.1996417e-01, 8.2996082e-01,\n",
              "        8.3995754e-01, 8.4995425e-01, 8.5995090e-01, 8.6994761e-01,\n",
              "        8.7994426e-01, 8.8994098e-01, 8.9993763e-01, 9.0993434e-01,\n",
              "        9.1993105e-01, 9.2992771e-01, 9.3992442e-01, 9.4992107e-01,\n",
              "        9.5991778e-01, 9.6991444e-01, 9.7991115e-01, 9.8990780e-01,\n",
              "        9.9990451e-01], dtype=float32),\n",
              " <a list of 100 Patch objects>)"
            ]
          },
          "metadata": {
            "tags": []
          },
          "execution_count": 12
        },
        {
          "output_type": "display_data",
          "data": {
            "image/png": "[encoded data removed]",
            "text/plain": [
              "<Figure size 432x288 with 1 Axes>"
            ]
          },
          "metadata": {
            "tags": [],
            "needs_background": "light"
          }
        }
      ]
    },
    {
      "cell_type": "code",
      "metadata": {
        "id": "g9gCjzGsiy3Y",
        "outputId": "3a060d81-70e7-4d12-a87d-ec35f69a3bd4",
        "colab": {
          "base_uri": "https://localhost:8080/",
          "height": 1000
        }
      },
      "source": [
        "import matplotlib.pyplot as plt\n",
        "rand1 = tf.random.normal([1000],0,1)\n",
        "rand2 = tf.random.uniform([2000],0,1)\n",
        "\n",
        "plt.rcParams[\"figure.figsize\"] = (12,6)\n",
        "fig, axes = plt.subplots(1,2, sharex=True, sharey=True)\n",
        "axes[0].hist(rand1,bins=100)\n",
        "axes[1].hist(rand2,bins=100)\n"
      ],
      "execution_count": 16,
      "outputs": [
        {
          "output_type": "execute_result",
          "data": {
            "text/plain": [
              "(array([17., 24., 20., 21., 17., 10., 16., 28., 18., 15., 27., 15., 21.,\n",
              "        24., 25., 23., 24., 23., 20., 20., 19., 17., 18., 26., 19., 10.,\n",
              "        16., 18., 20., 24., 11., 26., 20., 28., 14.,  8., 13., 22., 14.,\n",
              "        20., 12., 12., 19., 28., 21., 21., 13., 17., 23., 21., 16., 16.,\n",
              "        16., 20., 12., 25., 16., 16., 17., 23., 32., 27., 19., 31., 22.,\n",
              "        25., 16., 24., 16., 21., 23., 23., 21., 14., 23., 22., 15., 16.,\n",
              "        14., 21., 24., 25., 23., 30., 15., 20., 17., 17., 19., 26., 22.,\n",
              "        20., 22., 22., 25., 16., 19., 33., 19., 26.]),\n",
              " array([2.24828720e-04, 1.02202836e-02, 2.02157386e-02, 3.02111916e-02,\n",
              "        4.02066484e-02, 5.02021015e-02, 6.01975545e-02, 7.01930076e-02,\n",
              "        8.01884681e-02, 9.01839212e-02, 1.00179374e-01, 1.10174827e-01,\n",
              "        1.20170280e-01, 1.30165741e-01, 1.40161186e-01, 1.50156647e-01,\n",
              "        1.60152107e-01, 1.70147553e-01, 1.80143014e-01, 1.90138459e-01,\n",
              "        2.00133920e-01, 2.10129380e-01, 2.20124826e-01, 2.30120286e-01,\n",
              "        2.40115732e-01, 2.50111192e-01, 2.60106653e-01, 2.70102113e-01,\n",
              "        2.80097544e-01, 2.90093005e-01, 3.00088465e-01, 3.10083926e-01,\n",
              "        3.20079386e-01, 3.30074817e-01, 3.40070277e-01, 3.50065738e-01,\n",
              "        3.60061198e-01, 3.70056659e-01, 3.80052090e-01, 3.90047550e-01,\n",
              "        4.00043011e-01, 4.10038471e-01, 4.20033932e-01, 4.30029362e-01,\n",
              "        4.40024823e-01, 4.50020283e-01, 4.60015744e-01, 4.70011204e-01,\n",
              "        4.80006635e-01, 4.90002096e-01, 4.99997556e-01, 5.09993017e-01,\n",
              "        5.19988477e-01, 5.29983938e-01, 5.39979398e-01, 5.49974799e-01,\n",
              "        5.59970260e-01, 5.69965720e-01, 5.79961181e-01, 5.89956641e-01,\n",
              "        5.99952102e-01, 6.09947562e-01, 6.19943023e-01, 6.29938483e-01,\n",
              "        6.39933944e-01, 6.49929404e-01, 6.59924805e-01, 6.69920266e-01,\n",
              "        6.79915726e-01, 6.89911187e-01, 6.99906647e-01, 7.09902108e-01,\n",
              "        7.19897568e-01, 7.29893029e-01, 7.39888489e-01, 7.49883890e-01,\n",
              "        7.59879351e-01, 7.69874811e-01, 7.79870272e-01, 7.89865732e-01,\n",
              "        7.99861193e-01, 8.09856653e-01, 8.19852114e-01, 8.29847574e-01,\n",
              "        8.39843035e-01, 8.49838495e-01, 8.59833896e-01, 8.69829357e-01,\n",
              "        8.79824817e-01, 8.89820278e-01, 8.99815738e-01, 9.09811199e-01,\n",
              "        9.19806659e-01, 9.29802120e-01, 9.39797580e-01, 9.49792981e-01,\n",
              "        9.59788442e-01, 9.69783902e-01, 9.79779363e-01, 9.89774823e-01,\n",
              "        9.99770284e-01], dtype=float32),\n",
              " <a list of 100 Patch objects>)"
            ]
          },
          "metadata": {
            "tags": []
          },
          "execution_count": 16
        },
        {
          "output_type": "display_data",
          "data": {
            "image/png": "[encoded data removed]",
            "text/plain": [
              "<Figure size 864x432 with 2 Axes>"
            ]
          },
          "metadata": {
            "tags": [],
            "needs_background": "light"
          }
        }
      ]
    },
    {
      "cell_type": "code",
      "metadata": {
        "id": "kQQ09HgCjMnn",
        "outputId": "4133966c-0de0-46d1-9513-7703b1a94afb",
        "colab": {
          "base_uri": "https://localhost:8080/",
          "height": 53
        }
      },
      "source": [
        "import numpy as np\n",
        "a = np.arange(10)\n",
        "print(a)\n",
        "tf.random.shuffle(a)"
      ],
      "execution_count": 17,
      "outputs": [
        {
          "output_type": "stream",
          "text": [
            "[0 1 2 3 4 5 6 7 8 9]\n"
          ],
          "name": "stdout"
        },
        {
          "output_type": "execute_result",
          "data": {
            "text/plain": [
              "<tf.Tensor: shape=(10,), dtype=int64, numpy=array([0, 5, 7, 6, 1, 4, 2, 9, 3, 8])>"
            ]
          },
          "metadata": {
            "tags": []
          },
          "execution_count": 17
        }
      ]
    },
    {
      "cell_type": "code",
      "metadata": {
        "id": "qe1m6uQIjedx",
        "outputId": "0f795cbe-15e1-4a78-d528-0efb03106ae9",
        "colab": {
          "base_uri": "https://localhost:8080/",
          "height": 89
        }
      },
      "source": [
        "import numpy as np\n",
        "a = np.arange(20).reshape(4,5)\n",
        "a"
      ],
      "execution_count": 18,
      "outputs": [
        {
          "output_type": "execute_result",
          "data": {
            "text/plain": [
              "array([[ 0,  1,  2,  3,  4],\n",
              "       [ 5,  6,  7,  8,  9],\n",
              "       [10, 11, 12, 13, 14],\n",
              "       [15, 16, 17, 18, 19]])"
            ]
          },
          "metadata": {
            "tags": []
          },
          "execution_count": 18
        }
      ]
    },
    {
      "cell_type": "code",
      "metadata": {
        "id": "m51d5GONjjsR",
        "outputId": "969fba3c-03da-4a99-c2ab-cb82be61a21b",
        "colab": {
          "base_uri": "https://localhost:8080/",
          "height": 107
        }
      },
      "source": [
        "tf.random.shuffle(a)"
      ],
      "execution_count": 19,
      "outputs": [
        {
          "output_type": "execute_result",
          "data": {
            "text/plain": [
              "<tf.Tensor: shape=(4, 5), dtype=int64, numpy=\n",
              "array([[ 0,  1,  2,  3,  4],\n",
              "       [ 5,  6,  7,  8,  9],\n",
              "       [15, 16, 17, 18, 19],\n",
              "       [10, 11, 12, 13, 14]])>"
            ]
          },
          "metadata": {
            "tags": []
          },
          "execution_count": 19
        }
      ]
    },
    {
      "cell_type": "code",
      "metadata": {
        "id": "raMnPIifjmPF"
      },
      "source": [
        ""
      ],
      "execution_count": null,
      "outputs": []
    }
  ]
}